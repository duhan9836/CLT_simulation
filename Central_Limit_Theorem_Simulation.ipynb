{
 "cells": [
  {
   "cell_type": "code",
   "execution_count": 23,
   "metadata": {},
   "outputs": [],
   "source": [
    "# Use numpy and matplotlib to simulate and show the Central Limit Theorem:\n",
    "# The sampling distribution of the mean :\n",
    "# 1. is normally distributed (given the sample size is large enough);\n",
    "# 2. is centered at the population mean;\n",
    "# 3. has standard deviation equal to the population std divided by the square root of the sample size."
   ]
  },
  {
   "cell_type": "code",
   "execution_count": 24,
   "metadata": {},
   "outputs": [],
   "source": [
    "import numpy as np\n",
    "from matplotlib import pyplot as plt"
   ]
  },
  {
   "cell_type": "code",
   "execution_count": 25,
   "metadata": {},
   "outputs": [],
   "source": [
    "# design and generate a population with number generator\n",
    "population_mean = 10\n",
    "population_std = 2\n",
    "population = np.random.normal(population_mean,population_std,size = 10000)\n"
   ]
  },
  {
   "cell_type": "code",
   "execution_count": 26,
   "metadata": {},
   "outputs": [],
   "source": [
    "# draw samples of size 150 from the population, and add to the sample_means list\n",
    "sample_means = []\n",
    "sample_size = 150\n",
    "for i in range(10000):\n",
    "    samp = np.random.choice(population,size = sample_size,replace = True)\n",
    "    sample_means.append(np.mean(samp))"
   ]
  },
  {
   "cell_type": "code",
   "execution_count": 27,
   "metadata": {},
   "outputs": [
    {
     "name": "stdout",
     "output_type": "stream",
     "text": [
      "0.16329931618554522\n"
     ]
    }
   ],
   "source": [
    "# calculate the statistics for dataset sample_means:\n",
    "mean = np.mean(sample_means)\n",
    "std = np.std(sample_means)\n",
    "std_err = population_std/(sample_size**0.5)\n",
    "print(std_err)"
   ]
  },
  {
   "cell_type": "code",
   "execution_count": 28,
   "metadata": {},
   "outputs": [
    {
     "name": "stdout",
     "output_type": "stream",
     "text": [
      "The population mean is 10.\n"
     ]
    }
   ],
   "source": [
    "print(\"The population mean is {p_mean}.\".format(p_mean = population_mean))"
   ]
  },
  {
   "cell_type": "code",
   "execution_count": 29,
   "metadata": {},
   "outputs": [
    {
     "name": "stdout",
     "output_type": "stream",
     "text": [
      "The sampling distribution mean is 10.008760336106574, standard deviation is 0.16058563997227765, and standard error is 0.16329931618554522.\n"
     ]
    }
   ],
   "source": [
    "print(\"The sampling distribution mean is {mean}, standard deviation is {std}, and standard error is {std_e}.\".format(\n",
    "mean = mean,std = std, std_e = std_err))"
   ]
  },
  {
   "cell_type": "code",
   "execution_count": 31,
   "metadata": {},
   "outputs": [
    {
     "data": {
      "image/png": "[encoded data removed]",
      "text/plain": [
       "<Figure size 432x288 with 1 Axes>"
      ]
     },
     "metadata": {
      "needs_background": "light"
     },
     "output_type": "display_data"
    }
   ],
   "source": [
    "# show the histogram graph of sample_means with matplotlib\n",
    "plt.hist(sample_means,alpha=0.4)\n",
    "plt.vlines(np.mean(sample_means), 0, 3000, lw=3, linestyles='dashed')\n",
    "plt.show()"
   ]
  },
  {
   "cell_type": "code",
   "execution_count": null,
   "metadata": {},
   "outputs": [],
   "source": []
  }
 ],
 "metadata": {
  "kernelspec": {
   "display_name": "Python 3",
   "language": "python",
   "name": "python3"
  },
  "language_info": {
   "codemirror_mode": {
    "name": "ipython",
    "version": 3
   },
   "file_extension": ".py",
   "mimetype": "text/x-python",
   "name": "python",
   "nbconvert_exporter": "python",
   "pygments_lexer": "ipython3",
   "version": "3.8.5"
  }
 },
 "nbformat": 4,
 "nbformat_minor": 4
}
